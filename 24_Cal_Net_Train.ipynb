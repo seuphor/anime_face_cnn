{
 "cells": [
  {
   "cell_type": "code",
   "execution_count": 2,
   "metadata": {
    "collapsed": true
   },
   "outputs": [],
   "source": [
    "import tensorflow as tf\n",
    "from utils import save \n",
    "import numpy as np\n",
    "from models._24_net import calib_24Net\n",
    "from utils.utilities import batch_selection\n",
    "import sys\n",
    "from utils.params import *\n",
    "import time\n",
    "from utils import save"
   ]
  },
  {
   "cell_type": "code",
   "execution_count": 3,
   "metadata": {
    "collapsed": false
   },
   "outputs": [],
   "source": [
    "batch_size = 256\n",
    "epochs = 2000\n",
    "lr = [1.2e-2, 1e-2, 0.9e-2]\n",
    "bias_init = [0.0]\n",
    "reg = [0.0, 1e-4]\n",
    "_24_calib_batch = batch_selection()\n",
    "\n",
    "def valid_correct_percentage(pred, truth, top_numb=3):\n",
    "    assert(truth.shape[0] == pred.shape[0])\n",
    "    top_score = [arr.argsort()[-top_numb:][::-1] for arr in pred]\n",
    "    score_list = [1 if truth[i] in top_score[i] else 0 for i in range(truth.shape[0])]\n",
    "    percentage = np.sum(score_list) / truth.shape[0]\n",
    "    return percentage"
   ]
  },
  {
   "cell_type": "code",
   "execution_count": 4,
   "metadata": {
    "collapsed": false
   },
   "outputs": [
    {
     "name": "stdout",
     "output_type": "stream",
     "text": [
      "Loaded from D:\\programing project\\python project\\trying stuffpickle/\n"
     ]
    }
   ],
   "source": [
    "calibrate_db_24 = save.loader('calibrate_db_24_long.txt')\n",
    "calibrate_db_24 = calibrate_db_24[:int(len(calibrate_db_24) / batch_size) * batch_size]\n",
    "inputs_calib_24 = np.zeros((len(calibrate_db_24), 24, 24, 3))\n",
    "targets_calib_24 = np.zeros((len(calibrate_db_24), 45), dtype=np.int32)\n",
    "\n",
    "for i in range(len(calibrate_db_24)):\n",
    "    inputs_calib_24[i,:] = calibrate_db_24[i][0]\n",
    "    targets_calib_24[i,calibrate_db_24[i][1]] = 1"
   ]
  },
  {
   "cell_type": "code",
   "execution_count": 5,
   "metadata": {
    "collapsed": true
   },
   "outputs": [],
   "source": [
    "inputs = np.zeros((batch_size, 24, 24, 3))\n",
    "targets = np.zeros((batch_size, 45), dtype=np.int32)"
   ]
  },
  {
   "cell_type": "code",
   "execution_count": 6,
   "metadata": {
    "collapsed": false
   },
   "outputs": [
    {
     "name": "stdout",
     "output_type": "stream",
     "text": [
      "Loaded from D:\\programing project\\python project\\trying stuffpickle/\n"
     ]
    }
   ],
   "source": [
    "result_list = save.loader('calibrate_db_24_test.txt')\n",
    "valid_input = np.concatenate([result_list[i][0][np.newaxis] for i in range(len(result_list))])\n",
    "valid_target = np.asarray([result_list[i][1] for i in range(len(result_list))])\n"
   ]
  },
  {
   "cell_type": "code",
   "execution_count": 10,
   "metadata": {
    "collapsed": false
   },
   "outputs": [
    {
     "name": "stdout",
     "output_type": "stream",
     "text": [
      "**Bias_init:0.0   Learning_rate:0.012   Regularization:0.0**\n",
      "Epoch:564    Iters:43992/156000    Loss:1.74056    Cur_Accuracy:36.88%/66.0%    Max_Acc/Epo:35.44%/71.55%/165    Unimprove_Count:79\n",
      "Trained Time:22.62 mins\n",
      "\n",
      "**Bias_init:0.0   Learning_rate:0.01   Regularization:0.0**\n",
      "Epoch:589    Iters:45942/156000    Loss:2.57734    Cur_Accuracy:19.77%/46.66%    Max_Acc/Epo:20.55%/51.44%/190    Unimprove_Count:79\n",
      "Trained Time:23.03 mins\n",
      "\n",
      "**Bias_init:0.0   Learning_rate:0.009   Regularization:0.0**\n",
      "Epoch:639    Iters:49842/156000    Loss:2.42075    Cur_Accuracy:16.0%/42.88%    Max_Acc/Epo:20.33%/51.77%/240    Unimprove_Count:79\n",
      "Trained Time:24.84 mins\n",
      "\n",
      "**Bias_init:0.0   Learning_rate:0.012   Regularization:0.0001**\n",
      "Epoch:684    Iters:53352/156000    Loss:2.55631    Cur_Accuracy:18.11%/53.11%    Max_Acc/Epo:21.33%/55.11%/285    Unimprove_Count:79\n",
      "Trained Time:26.62 mins\n",
      "\n",
      "**Bias_init:0.0   Learning_rate:0.01   Regularization:0.0001**\n",
      "Epoch:454    Iters:35412/156000    Loss:1.3263    Cur_Accuracy:47.11%/75.44%    Max_Acc/Epo:42.44%/78.44%/55    Unimprove_Count:79\n",
      "Trained Time:17.66 mins\n",
      "\n",
      "**Bias_init:0.0   Learning_rate:0.009   Regularization:0.0001**\n",
      "Epoch:794    Iters:61932/156000    Loss:1.36887    Cur_Accuracy:47.0%/78.55%    Max_Acc/Epo:44.77%/79.22%/395    Unimprove_Count:79\n",
      "Trained Time:31.24 mins\n",
      "\n"
     ]
    }
   ],
   "source": [
    "for r in reg:\n",
    "    for b in bias_init:\n",
    "        for l in lr:\n",
    "            record_l = l\n",
    "            print('**Bias_init:{}   Learning_rate:{}   Regularization:{}**'.format(b,l,r))\n",
    "\n",
    "            max_i = 0\n",
    "            correct_pnt_top3 = 0\n",
    "            correct_pnt_top1 = 0\n",
    "            correct_pnt_top3_max = 0\n",
    "            correct_pnt_top1_max = 0\n",
    "            bad_cnt = 0\n",
    "\n",
    "            start = time.time()\n",
    "            g=tf.Graph()\n",
    "            with g.as_default():\n",
    "                input_24_node = tf.placeholder(tf.float32, [None, 24, 24, 3])\n",
    "                target_24_node = tf.placeholder(tf.float32, [None, 45])\n",
    "                keep_prob = tf.placeholder(tf.float32)\n",
    "                _calib_24 = calib_24Net(input_24_node, target_24_node, keep_prob, l, b, r)\n",
    "\n",
    "            sess = tf.InteractiveSession(config=tf.ConfigProto(\n",
    "              allow_soft_placement=True, log_device_placement=True), graph=g)\n",
    "            sess.run(tf.global_variables_initializer())\n",
    "            train_writer = tf.summary.FileWriter('./logs/train/Calib_24/bias_init={},lr={},reg={}'.format(b,l,r))\n",
    "\n",
    "            for i in range(epochs):\n",
    "\n",
    "                if (i+1) % 5 == 0:\n",
    "                    pred_target = _calib_24.prediction.eval(feed_dict={input_24_node:valid_input,keep_prob:1.0})\n",
    "                    correct_pnt_top3 = valid_correct_percentage(pred_target, valid_target, 3)\n",
    "                    correct_pnt_top1 = valid_correct_percentage(pred_target, valid_target, 1)\n",
    "\n",
    "                    if correct_pnt_top3 > correct_pnt_top3_max:\n",
    "                        max_i = i + 1\n",
    "                        correct_pnt_top3_max = correct_pnt_top3\n",
    "                        correct_pnt_top1_max = correct_pnt_top1\n",
    "                        bad_cnt = 0\n",
    "                        saver = tf.train.Saver()\n",
    "                        saver.save(sess, p_model_dir + 'calib_24/max/_Net24_b{}_lr{}_reg{}_drop{}.ckpt'.format(b,record_l,r,0.5))\n",
    "\n",
    "                    else:\n",
    "                        bad_cnt += 1\n",
    "\n",
    "                if i > 30 and bad_cnt % 5 == 0:\n",
    "                    l = l * .98\n",
    "                    \n",
    "                mean_var_list = np.zeros((4,64))\n",
    "                \n",
    "                if bad_cnt >= 80:\n",
    "                    break\n",
    "\n",
    "                for batch_i in range(int(len(calibrate_db_24) / batch_size)):\n",
    "                    iters = i*int(len(calibrate_db_24) / batch_size) + batch_i\n",
    "                    inputs, targets = _24_calib_batch.next_batch(inputs_calib_24, targets_calib_24, batch_size)\n",
    "                    feed_train = {\n",
    "                        input_24_node:inputs,\n",
    "                        target_24_node:targets,\n",
    "                        keep_prob:.5\n",
    "                    }\n",
    "                    feed_loss = {\n",
    "                        input_24_node:inputs,\n",
    "                        target_24_node:targets,\n",
    "                        keep_prob:1.0\n",
    "\n",
    "                    }\n",
    "\n",
    "                    cost = _calib_24.loss.eval(feed_loss)\n",
    "                    sys.stdout.write('\\rEpoch:' + str(i+1) + \\\n",
    "                                     '    Iters:' + str(iters+1) + '/' + str(int(len(calibrate_db_24) / batch_size)*epochs) + \\\n",
    "                                     '    Loss:' + str(cost)[:8] + \\\n",
    "                                     '    Cur_Accuracy:' + str(correct_pnt_top1*100)[:5] + '%/' + str(correct_pnt_top3*100)[:5] + '%' + \\\n",
    "                                     '    Max_Acc/Epo:' + str(correct_pnt_top1_max*100)[:5] + '%/' + str(correct_pnt_top3_max*100)[:5] + \\\n",
    "                                                          '%/' + str(max_i) + \\\n",
    "                                     '    Unimprove_Count:' + str(bad_cnt))\n",
    "\n",
    "                    _calib_24.train_step.run(feed_train)\n",
    "            end = time.time()\n",
    "            print('\\nTrained Time:{} mins\\n'.format(str((end-start)/60.0)[:5]))"
   ]
  },
  {
   "cell_type": "code",
   "execution_count": null,
   "metadata": {
    "collapsed": true
   },
   "outputs": [],
   "source": []
  }
 ],
 "metadata": {
  "anaconda-cloud": {},
  "kernelspec": {
   "display_name": "Python [conda root]",
   "language": "python",
   "name": "conda-root-py"
  },
  "language_info": {
   "codemirror_mode": {
    "name": "ipython",
    "version": 3
   },
   "file_extension": ".py",
   "mimetype": "text/x-python",
   "name": "python",
   "nbconvert_exporter": "python",
   "pygments_lexer": "ipython3",
   "version": "3.5.2"
  }
 },
 "nbformat": 4,
 "nbformat_minor": 1
}
